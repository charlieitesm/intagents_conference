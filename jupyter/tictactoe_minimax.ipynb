{
  "cells": [
    {
      "cell_type": "markdown",
      "source": "# TicTacToe Minimax AI",
      "metadata": {
        "pycharm": {
          "metadata": false
        }
      }
    },
    {
      "cell_type": "markdown",
      "source": "## 1. Definamos unas constantes",
      "metadata": {
        "pycharm": {
          "metadata": false
        }
      }
    },
    {
      "cell_type": "code",
      "execution_count": 3,
      "outputs": [],
      "source": "# Game messages\nILLEGAL_MOVE_MSG \u003d \"The move is illegal, please try again...\"\nWINNER_MSG \u003d \"The winner is:\"\n\n# TicTacToe messages\nTICTACTOE_ENDING_MSG \u003d \"GAME OVER! Final results:\"\nTICTACTOE_DRAW_MSG \u003d \"It\u0027s a Draw!\"\n\nENTER_YOUR_MOVE_MSG \u003d \"Enter your comma-separated move\"\nINVALID_FORMAT_FOR_MOVE_MSG \u003d \"The format for the entered move is invalid, please try again.\"\nGAME_TOKEN \u003d \"game_token\"\nMOVE \u003d \"move\"\n",
      "metadata": {
        "pycharm": {
          "metadata": false,
          "name": "#%%\n",
          "is_executing": false
        }
      }
    },
    {
      "cell_type": "markdown",
      "source": "## 2. Definimos las fichas de un TicTacToe y un tablero para jugar",
      "metadata": {
        "pycharm": {
          "metadata": false
        }
      }
    },
    {
      "cell_type": "code",
      "execution_count": 5,
      "outputs": [],
      "source": "\nclass GameToken:\n\n    def __init__(self, token_symbol: str):\n        self.token_symbol \u003d token_symbol\n\n    def __str__(self):\n        return self.token_symbol\n\n\nTIC_TAC_TOE_TOKENS \u003d [GameToken(\"X\"), GameToken(\"O\")]\n\n\nclass TicTacToeBoard:\n\n    def __init__(self):\n        self.current_state \u003d [[]]\n        self.init_board()\n\n        for t in TIC_TAC_TOE_TOKENS:\n            if str(t) \u003d\u003d \"X\":\n                self.x \u003d t\n            elif str(t) \u003d\u003d \"O\":\n                self.o \u003d t\n\n        assert self.x is not None and self.o is not None\n\n    def init_board(self):\n        # Initialize a 3x3 board with no tokens\n        self.current_state \u003d [\n            [None, None, None] for _ in range(3)\n        ]\n\n    def get_empty_spaces_coordinates(self) -\u003e list:\n        empty_spaces \u003d []  # What are we living for? ♫\n\n        for x, row in enumerate(self.current_state):\n            for y, game_token in enumerate(row):\n                if game_token is None:\n                    empty_spaces.append((x, y))\n\n        return empty_spaces\n\n    def __str__(self) -\u003e str:\n        \"\"\"\n        This will give us a board formatted like this:\n         X | O | X\n         X | X | O\n         X | O | O\n        :return: a str representation of the current board\n        \"\"\"\n        representation \u003d \"\\n\".join(\n            \"|\".join([\"{:^3}\".format(str(val)) if val is not None\n                      else \"{:3}\".format(\"\") for val in row]) for row in self.current_state)\n        return representation\n\n    def serialize(self) -\u003e str:\n        return \",\".join([\",\".join([str(c) if c is not None else \"\" for c in row]) for row in self.current_state])\n\n    def deserialize(self, serialized_board: str) -\u003e object:\n        state \u003d []\n\n        i \u003d 0\n        serialized_tokens \u003d [s.upper() for s in serialized_board.split(\",\")]\n\n        while i \u003c 9:\n            row \u003d [None if not e else\n                   self.x if e.upper() \u003d\u003d str(self.x) else self.o for e in serialized_tokens[i: i + 3]]\n            state.append(row)\n            i +\u003d 3\n\n        self.current_state \u003d state\n\n        return self\n",
      "metadata": {
        "pycharm": {
          "metadata": false,
          "name": "#%%\n",
          "is_executing": false
        }
      }
    },
    {
      "cell_type": "markdown",
      "source": "## 3. Definimos unas clases para abstraer como los jugadores interactuan con el juego",
      "metadata": {
        "pycharm": {
          "metadata": false
        }
      }
    },
    {
      "cell_type": "code",
      "execution_count": 7,
      "outputs": [],
      "source": "\nclass ConsoleUI:\n\n    def input(self, message: str) -\u003e str:\n        return input(f\"{message}: \")\n\n    def output(self, message: str):\n        print(message)\n\n\nclass DummyUI:\n\n    def input(self, message: str) -\u003e str:\n        pass\n\n    def output(self, message: str):\n        pass\n",
      "metadata": {
        "pycharm": {
          "metadata": false,
          "name": "#%%\n",
          "is_executing": false
        }
      }
    },
    {
      "cell_type": "markdown",
      "source": "## 4. Definimos las reglas del juego y métodos util para jugar",
      "metadata": {
        "pycharm": {
          "metadata": false
        }
      }
    },
    {
      "cell_type": "code",
      "execution_count": 8,
      "outputs": [],
      "source": "\nclass TicTacToeGame:\n\n    def __init__(self, players: list):\n        self.board \u003d TicTacToeBoard()\n        self.players \u003d players\n        self.winner \u003d None\n        self.legal_tokens \u003d None\n        self.legal_tokens \u003d TIC_TAC_TOE_TOKENS\n\n    def play(self):  \n\n        # This will contain the main game loop\n        is_game_over_yet \u003d False\n\n        while not is_game_over_yet:\n\n            # Ask each of the players for their move\n            for player in self.players:\n\n                player.ui.output(f\"***** {player}\u0027s turn! ******\")\n                player.ui.output(self.board)\n                move \u003d player.make_move(self.board)\n\n                # Check that the move is legal in the context of the board\n                while not self.is_valid_move(move):\n                    player.ui.output(ILLEGAL_MOVE_MSG)\n                    move \u003d player.make_move(self.board)\n\n                # Apply the player\u0027s move to the board since we now know it was legal\n                move_x, move_y \u003d move[MOVE]\n                self.board.current_state[move_x][move_y] \u003d move[GAME_TOKEN]\n\n                is_game_over_yet \u003d self.is_game_over()\n\n                # If the game has ended, break the player loop which in turn will break the game loop\n                if is_game_over_yet:\n                    break\n\n        # Leave every concrete game to decide what it needs to do after a game is completed\n        self.finish_game()  \n\n    def is_valid_move(self, move: dict) -\u003e bool:\n        \"\"\"\n        Determines if the move made by player is legal on this board\n\n        In general, a Tic Tac Toe is valid if:\n        1. It is made within the bounds of the board\n        2. The space that is intended to be used is not already in use\n\n        :param move: a dict with the move and the game_token to be placed by player\n        :return: True if the move is valid, False otherwise.\n        \"\"\"\n\n        move_x, move_y \u003d move[MOVE]\n\n        return TicTacToeGameUtil.is_legal_tic_tac_toe_move(self.board, move_x, move_y)\n\n    def is_game_over(self) -\u003e bool:\n        \"\"\"\n        Determines if the game is already over\n\n        In general, a TicTacToe game is over if:\n        1. There is a line of the same game_token horizontally, vertically or diagonally\n        2. There are no more spaces to use\n        :return:\n        \"\"\"\n        # Check if we have a winner\n        winning_token \u003d TicTacToeGameUtil.get_winner(self.board)\n\n        if winning_token:\n            self.winner \u003d self.token_to_player(winning_token)\n            return True\n\n        # Check if there are no more places to put a game_token\n        for row in self.board.current_state:\n            for val in row:\n                if val is None:\n                    return False\n        return True\n\n    def finish_game(self):\n        \"\"\"\n        Prepares and outputs to each of the players a message with the results\n        :return:\n        \"\"\"\n        winner_result \u003d TICTACTOE_DRAW_MSG if not self.winner else f\"{WINNER_MSG} {self.winner}\"\n        final_message \u003d \"\\n\".join([TICTACTOE_ENDING_MSG, str(self.board), winner_result])\n\n        for p in self.players:\n            p.ui.output(final_message)\n\n    def token_to_player(self, winning_token: GameToken):\n        \"\"\"\n        Get the player holding the game_token represented by token_str\n        :param winning_token: a str representing the game_token to look for\n        :return: a Player holding the game_token represented by token_str, None if no one was found\n        \"\"\"\n        for p in self.players:\n            if winning_token \u003d\u003d p.game_token:\n                return p\n\n    def str_to_game_token(self, str_token: str) -\u003e GameToken:\n        for gt in self.legal_tokens:\n            if str_token.upper() \u003d\u003d str(gt).upper():\n                return gt\n\n\nclass TicTacToeGameUtil:\n\n    @staticmethod\n    def is_legal_tic_tac_toe_move(board: TicTacToeBoard, move_x: int, move_y: int) -\u003e bool:\n        \"\"\"\n        Determines if the move made by player is legal on this board\n\n        In general, a Tic Tac Toe is valid if:\n        1. It is made within the bounds of the board\n        2. The space that is intended to be used is not already in use\n        :param board: a Board where you want to check the move\n        :param move_x: an int with the x coordinate for the move\n        :param move_y: an int with the y coordinate for the move\n        :return: True if the move is valid, False otherwise.\n        \"\"\"\n        board_size \u003d len(board.current_state)\n\n        # Check if the move is within bounds\n        if not 0 \u003c\u003d move_x \u003c board_size or not 0 \u003c\u003d move_y \u003c board_size:\n            return False\n\n        # Check the space is not in use already\n        value_at_board \u003d board.current_state[move_x][move_y]\n\n        if value_at_board is not None:\n            return False\n\n        return True\n\n    @staticmethod\n    def get_winner(board: TicTacToeBoard) -\u003e GameToken:\n        for x, row in enumerate(board.current_state):\n            for y, gt in enumerate(row):\n\n                # There will be no winner combination on this row/column\n                if gt is None:\n                    continue\n\n                if TicTacToeGameUtil.check_complete_line_in_board(board, gt, x, y):\n                    winner_token \u003d gt\n                    return winner_token\n\n    @staticmethod\n    def check_complete_line_in_board(board: TicTacToeBoard, game_token: GameToken, x: int, y: int) -\u003e bool:\n        \"\"\"\n        Checks if there are exactly three tokens equal to val horizontally, vertically and diagonally on the board\n        respective to x and y\n        :param board: the Board in which to check the line\n        :param game_token: a str representing the game_token to look for\n        :param x: an int representing the original X coordinate of val\n        :param y: an int representing the original Y coordinate of val\n        :return: True if a line of successive val was found, False if otherwise\n        \"\"\"\n        num_of_same_tokens \u003d 0\n        len_of_board \u003d len(board.current_state)\n\n        # Check horizontally\n        for j in range(len_of_board):\n            if board.current_state[x][j] \u003d\u003d game_token:\n                num_of_same_tokens +\u003d 1\n            else:\n                break\n\n        if num_of_same_tokens \u003d\u003d 3:\n            return True\n\n        num_of_same_tokens \u003d 0\n\n        # Check vertically\n        for i in range(len_of_board):\n            if board.current_state[i][y] \u003d\u003d game_token:\n                num_of_same_tokens +\u003d 1\n            else:\n                break\n\n        if num_of_same_tokens \u003d\u003d 3:\n            return True\n\n        num_of_same_tokens \u003d 0\n\n        # Check diagonally top to bottom, but only if we can do so\n        if (x, y) in ((0, 0), (1, 1), (2, 2), (2, 0), (0, 2)):\n\n            # Left to right:\n            for i in range(len_of_board):\n                if game_token !\u003d board.current_state[i][i]:\n                    break\n                else:\n                    num_of_same_tokens +\u003d 1\n\n            if num_of_same_tokens \u003d\u003d 3:\n                return True\n\n            num_of_same_tokens \u003d 0\n\n            # Right to left\n            for k in range(len_of_board):\n                i \u003d 0 + k\n                j \u003d 2 - k\n                if game_token \u003d\u003d board.current_state[i][j]:\n                    num_of_same_tokens +\u003d 1\n\n            return num_of_same_tokens \u003d\u003d 3\n\n        else:\n            return False\n\n    @staticmethod\n    def get_token_from_str(token_str: str) -\u003e GameToken:\n        for gt in TIC_TAC_TOE_TOKENS:\n            if str(gt).lower() \u003d\u003d token_str.lower():\n                return gt\n",
      "metadata": {
        "pycharm": {
          "metadata": false,
          "name": "#%%\n",
          "is_executing": false
        }
      }
    },
    {
      "cell_type": "markdown",
      "source": "# ¡Lo importante - Minimax!\n## 6. Definimos un cerebro para nuestra AI que usa minimax para calcular su siguiente movimiento",
      "metadata": {
        "pycharm": {
          "metadata": false
        }
      }
    },
    {
      "cell_type": "code",
      "execution_count": 9,
      "outputs": [],
      "source": "\nimport math\n\n\nclass TicTacToeBrain:\n\n    def calculate_next_move(self, board: TicTacToeBoard, game_token: GameToken) -\u003e tuple:\n        opponent_token \u003d [t for t in TIC_TAC_TOE_TOKENS if t is not game_token][0]\n        minimax_result \u003d self.minimax(board, game_token, opponent_token, is_ais_turn\u003dTrue)\n        move \u003d minimax_result[1]\n        return move\n\n    def minimax(self, board: TicTacToeBoard,\n                my_game_token: GameToken,\n                opponent_game_token: GameToken,\n                is_ais_turn: bool) -\u003e tuple:\n        winning_token \u003d TicTacToeGameUtil.get_winner(board)\n\n        if winning_token:\n            if winning_token \u003d\u003d my_game_token:\n                # The AI won\n                return 1, None\n            else:\n                # The AI lost\n                return -1, None\n\n        possible_moves \u003d board.get_empty_spaces_coordinates()\n\n        if not possible_moves and not winning_token:\n            # This was a draw\n            return 0, None\n\n        if is_ais_turn:  # Maximize this player\n            value \u003d -math.inf\n            chosen_move \u003d None\n\n            for move in possible_moves:\n                # Make a new Board to keep the original intact\n                new_board_matrix \u003d [row.copy() for row in board.current_state]\n                new_board \u003d TicTacToeBoard()\n                new_board.current_state \u003d new_board_matrix\n\n                # Make the move\n                new_board.current_state[move[0]][move[1]] \u003d my_game_token\n\n                # Simulate the opponent making a move\n                new_value \u003d self.minimax(new_board, my_game_token, opponent_game_token, is_ais_turn\u003dFalse)[0]\n\n                if new_value \u003e value:\n                    value \u003d new_value\n                    chosen_move \u003d move\n\n            return value, chosen_move\n\n        else:  # It\u0027s the opponents turn, minimize it!\n            value \u003d math.inf\n            chosen_move \u003d None\n\n            for move in possible_moves:\n                # Make a new Board to keep the original intact\n                new_board_matrix \u003d [row.copy() for row in board.current_state]\n                new_board \u003d TicTacToeBoard()\n                new_board.current_state \u003d new_board_matrix\n\n                # Make the move\n                new_board.current_state[move[0]][move[1]] \u003d opponent_game_token\n\n                # Simulate the opponent making a move\n                new_value \u003d self.minimax(new_board, my_game_token, opponent_game_token, is_ais_turn\u003dTrue)[0]\n\n                if new_value \u003c value:\n                    value \u003d new_value\n                    chosen_move \u003d move\n\n            return value, chosen_move\n",
      "metadata": {
        "pycharm": {
          "metadata": false,
          "name": "#%%\n",
          "is_executing": false
        }
      }
    },
    {
      "cell_type": "markdown",
      "source": "## 7. Agregamos las instancias de los jugadores, humanos y AI",
      "metadata": {
        "pycharm": {
          "metadata": false
        }
      }
    },
    {
      "cell_type": "code",
      "execution_count": 14,
      "outputs": [],
      "source": "\nclass HumanPlayer:\n\n    def __init__(self, ui: ConsoleUI, game_token: GameToken):\n        self.name \u003d \"Human_1\"\n        self.ui \u003d ui\n        self.game_token \u003d game_token\n\n    def make_move(self, board: TicTacToeBoard) -\u003e dict:\n        move \u003d self.ui.input(ENTER_YOUR_MOVE_MSG).split(\",\")\n\n        while not move or len(move) !\u003d 2 or not all([m.isdigit() for m in move]):\n            self.ui.output(INVALID_FORMAT_FOR_MOVE_MSG)\n            move \u003d self.ui.input(ENTER_YOUR_MOVE_MSG).split(\",\")\n\n        move \u003d (int(move[0]), int(move[1]))\n\n        return {\n            GAME_TOKEN: self.game_token,\n            MOVE: move\n        }\n\n    def __str__(self):\n        return self.name\n\n\nclass AIPlayer:\n\n    def __init__(self, brain: TicTacToeBrain, game_token: GameToken):\n        # An AI doesn\u0027t require a UI, so let\u0027s use a DummyUI so that the Game can broadcast messages to players but skip\n        #  messaging the AIPlayers\n        self.name \u003d \"AI_1\"\n        self.ui \u003d DummyUI()\n        self.game_token \u003d game_token\n        self.brain \u003d brain\n\n    def make_move(self, board: TicTacToeBoard) -\u003e dict:\n        move \u003d self.brain.calculate_next_move(board, self.game_token)\n\n        return {\n            GAME_TOKEN: self.game_token,\n            MOVE: move\n        }\n\n    def __str__(self):\n        return self.name\n\n",
      "metadata": {
        "pycharm": {
          "metadata": false,
          "name": "#%%\n",
          "is_executing": false
        }
      }
    },
    {
      "cell_type": "markdown",
      "source": "## 8. Definimos un metodo factory (muy sencillo) para instanciar el juego y los jugadores",
      "metadata": {
        "pycharm": {
          "metadata": false
        }
      }
    },
    {
      "cell_type": "code",
      "execution_count": 17,
      "outputs": [],
      "source": "\ndef build_game() -\u003e TicTacToeGame:\n    players \u003d []\n    ui \u003d ConsoleUI()\n\n    # Get the appropriate tokens\n    tokens \u003d TIC_TAC_TOE_TOKENS.copy()\n    ai_brain \u003d TicTacToeBrain()\n\n    # Build the player instances\n    player_tok \u003d tokens.pop(0)\n    players.append(HumanPlayer(ui, player_tok))\n    player_tok \u003d tokens.pop(0)\n    players.append(AIPlayer(ai_brain, player_tok))\n\n    return TicTacToeGame(players)\n",
      "metadata": {
        "pycharm": {
          "metadata": false,
          "name": "#%%\n",
          "is_executing": false
        }
      }
    },
    {
      "cell_type": "markdown",
      "source": "## 9. ¡A jugar!",
      "metadata": {
        "pycharm": {
          "metadata": false
        }
      }
    },
    {
      "cell_type": "code",
      "execution_count": 18,
      "outputs": [
        {
          "name": "stdout",
          "text": [
            "***** Human_1\u0027s turn! ******\n   |   |   \n   |   |   \n   |   |   \n",
            "The format for the entered move is invalid, please try again.\n",
            "The format for the entered move is invalid, please try again.\n",
            "The format for the entered move is invalid, please try again.\n",
            "The format for the entered move is invalid, please try again.\n",
            "***** Human_1\u0027s turn! ******\n X |   |   \n   | O |   \n   |   |   \n",
            "***** Human_1\u0027s turn! ******\n X | O |   \n   | O |   \n   |   | X \n",
            "***** Human_1\u0027s turn! ******\n X | O | X \n   | O | O \n   |   | X \n",
            "The move is illegal, please try again...\n",
            "GAME OVER! Final results:\n X | O | X \n X | O | O \n   | O | X \nThe winner is: AI_1\n"
          ],
          "output_type": "stream"
        }
      ],
      "source": "game \u003d build_game()\ngame.play()\n",
      "metadata": {
        "pycharm": {
          "metadata": false,
          "name": "#%%\n",
          "is_executing": false
        }
      }
    }
  ],
  "metadata": {
    "language_info": {
      "codemirror_mode": {
        "name": "ipython",
        "version": 2
      },
      "file_extension": ".py",
      "mimetype": "text/x-python",
      "name": "python",
      "nbconvert_exporter": "python",
      "pygments_lexer": "ipython2",
      "version": "2.7.6"
    },
    "kernelspec": {
      "name": "python3",
      "language": "python",
      "display_name": "Python 3"
    },
    "stem_cell": {
      "cell_type": "raw",
      "source": "",
      "metadata": {
        "pycharm": {
          "metadata": false
        }
      }
    }
  },
  "nbformat": 4,
  "nbformat_minor": 0
}